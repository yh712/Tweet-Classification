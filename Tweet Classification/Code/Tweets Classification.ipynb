{
 "cells": [
  {
   "cell_type": "code",
   "execution_count": 6,
   "metadata": {},
   "outputs": [],
   "source": [
    "import pandas as pd\n",
    "import numpy as np\n",
    "import csv\n",
    "import re\n",
    "import numpy as np\n",
    "import json\n",
    "from sklearn.model_selection import train_test_split, cross_val_score\n",
    "from sklearn.feature_extraction.text import TfidfVectorizer\n",
    "from sklearn.naive_bayes import MultinomialNB\n",
    "from sklearn.neural_network import MLPClassifier\n",
    "from sklearn.pipeline import make_pipeline\n",
    "from sklearn.metrics import confusion_matrix\n",
    "from sklearn.metrics import f1_score\n",
    "from sklearn.linear_model import LogisticRegression\n",
    "import matplotlib.pyplot as plt\n",
    "import seaborn as sns; sns.set()\n",
    "from nltk import word_tokenize, regexp_tokenize\n",
    "from nltk.corpus import stopwords\n",
    "import string\n",
    "import random\n",
    "from gensim.test.utils import datapath, get_tmpfile\n",
    "from gensim.models import KeyedVectors\n",
    "from gensim.scripts.glove2word2vec import glove2word2vec"
   ]
  },
  {
   "cell_type": "markdown",
   "metadata": {},
   "source": [
    "# 1. Import tweets"
   ]
  },
  {
   "cell_type": "code",
   "execution_count": 44,
   "metadata": {},
   "outputs": [],
   "source": [
    "# Import tweets from tweepy cursor\n",
    "py_df = pd.read_csv(\"py_tweets.csv\")\n",
    "nba_df = pd.read_csv(\"nba_tweets.csv\")\n",
    "py_tweets = list(py_df.iloc[:,1])\n",
    "nba_tweets = list(nba_df.iloc[:,1])"
   ]
  },
  {
   "cell_type": "code",
   "execution_count": 45,
   "metadata": {},
   "outputs": [],
   "source": [
    "# Import tweets from tweepy streaming\n",
    "py_tweets_1 = []\n",
    "for i in range(1,4):    \n",
    "    with open(\"python_tweets_{}\".format(i), \"r\") as f1:\n",
    "        for line in f1:\n",
    "            try:\n",
    "                data = json.loads(line)\n",
    "                # if you want to see a specific field, you can print it. \n",
    "                #If your file is big, there may be too many of these printed\n",
    "                #print(data['text']) \n",
    "                py_tweets_1.append(data['text'].encode('utf-8'))\n",
    "            except:\n",
    "                continue"
   ]
  },
  {
   "cell_type": "code",
   "execution_count": 46,
   "metadata": {},
   "outputs": [
    {
     "name": "stdout",
     "output_type": "stream",
     "text": [
      "Total number of Python tweets from tweepy streaming: 38015\n",
      "Total number of Python tweets from tweepy cursor: 5795\n",
      "Total number of NBA tweets: 21499\n"
     ]
    }
   ],
   "source": [
    "print(\"Total number of Python tweets from tweepy streaming:\", len(py_tweets))\n",
    "print(\"Total number of Python tweets from tweepy cursor:\", len(py_tweets_1))\n",
    "print(\"Total number of NBA tweets:\", len(nba_tweets))"
   ]
  },
  {
   "cell_type": "markdown",
   "metadata": {},
   "source": [
    "# 2. Organize tweets"
   ]
  },
  {
   "cell_type": "code",
   "execution_count": 47,
   "metadata": {},
   "outputs": [
    {
     "name": "stdout",
     "output_type": "stream",
     "text": [
      "Total number of unique Python tweets: 10133\n",
      "Total number of unique NBA tweets: 15251\n"
     ]
    }
   ],
   "source": [
    "# Remove duplicate tweets\n",
    "py_tweets = list(set(py_tweets))\n",
    "py_tweets_1 = list(set(py_tweets_1))\n",
    "nba_tweets = list(set(nba_tweets))\n",
    "# Decode py_tweets_1 to strings\n",
    "py_tweets_1 = [line.decode('utf-8') for line in py_tweets_1]\n",
    "# Combine two lists\n",
    "py_tweets = py_tweets + py_tweets_1\n",
    "\n",
    "print(\"Total number of unique Python tweets:\", len(py_tweets))\n",
    "print(\"Total number of unique NBA tweets:\", len(nba_tweets))"
   ]
  },
  {
   "cell_type": "code",
   "execution_count": 48,
   "metadata": {},
   "outputs": [],
   "source": [
    "# Python\n",
    "# Remove b' at the beginning\n",
    "py_tweets = [re.sub(r'(b(\\'|\\\")){1}', '', line) for line in py_tweets]\n",
    "# Remove RT\n",
    "py_tweets = [re.sub(r'RT\\s', '', line) for line in py_tweets]\n",
    "# Remove account name\n",
    "py_tweets = [re.sub(r'@\\w+:?\\s*', '', line) for line in py_tweets]\n",
    "# Remove newline \n",
    "py_tweets = [re.sub(r'\\\\n|\\\\t', ' ', line) for line in py_tweets]\n",
    "# Remove url\n",
    "py_tweets = [re.sub(r'https?://\\S+', '', line) for line in py_tweets]\n",
    "# Remove unicode\n",
    "py_tweets = [re.sub(r'\\\\x\\w{2}', '', line) for line in py_tweets]\n",
    "# Remove continuous whitespace\n",
    "py_tweets = [re.sub(r'\\s+', ' ', line) for line in py_tweets]\n",
    "\n",
    "# NBA\n",
    "# Remove b' at the beginning\n",
    "nba_tweets = [re.sub(r'(b(\\'|\\\")){1}', '', line) for line in nba_tweets]\n",
    "# Remove RT\n",
    "nba_tweets = [re.sub(r'RT\\s', '', line) for line in nba_tweets]\n",
    "# Remove account name\n",
    "nba_tweets = [re.sub(r'@\\w+:?', '', line) for line in nba_tweets]\n",
    "# Remove newline \n",
    "nba_tweets = [re.sub(r'\\\\n|\\\\t', ' ', line) for line in nba_tweets]\n",
    "# Remove url\n",
    "nba_tweets = [re.sub(r'https?://\\S+', '', line) for line in nba_tweets]\n",
    "# Remove unicode\n",
    "nba_tweets = [re.sub(r'\\\\x\\w{2}', '', line) for line in nba_tweets]\n",
    "# Remove continuous whitespace\n",
    "nba_tweets = [re.sub(r'\\s+', ' ', line) for line in nba_tweets]"
   ]
  },
  {
   "cell_type": "code",
   "execution_count": 49,
   "metadata": {},
   "outputs": [],
   "source": [
    "# Lowercase letters in tweets\n",
    "py_tweets = [line.lower() for line in py_tweets]\n",
    "nba_tweets = [line.lower() for line in nba_tweets]\n",
    "# Remove hashtags\n",
    "py_tweets = [re.sub(r'#python', '', line) for line in py_tweets]\n",
    "nba_tweets = [re.sub(r'#nba', '', line) for line in nba_tweets]\n",
    "# Remove non-alphanumeric\n",
    "py_tweets = [re.sub(r'[^(a-zA-Z|\\s)]', '', line) for line in py_tweets]\n",
    "nba_tweets = [re.sub(r'[^(a-zA-Z|\\s)]', '', line) for line in nba_tweets]"
   ]
  },
  {
   "cell_type": "code",
   "execution_count": 50,
   "metadata": {
    "scrolled": false
   },
   "outputs": [
    {
     "name": "stdout",
     "output_type": "stream",
     "text": [
      "Python: \n",
      "No.0:\n",
      " cprogramming csharp webdev java javascript php css  programming unity unitydeveloper comput \n",
      "\n",
      "No.1:\n",
      " do you find difficulties to calculate probabilities of card games   \n",
      "\n",
      "No.2:\n",
      " campa mexico stays on trend with oracle migrations scalability reliability availability artific \n",
      "\n"
     ]
    }
   ],
   "source": [
    "print(\"Python: \")\n",
    "for i in range(3):\n",
    "    print(\"No.{}:\\n\".format(i), py_tweets[i], \"\\n\")"
   ]
  },
  {
   "cell_type": "code",
   "execution_count": 51,
   "metadata": {},
   "outputs": [
    {
     "name": "stdout",
     "output_type": "stream",
     "text": [
      "NBA: \n",
      "No.0:\n",
      "  i thought it made you sad because they support the uighur muslim detention centers  \n",
      "\n",
      "No.1:\n",
      " our updated   mock draft database is now up to  mocks draft \n",
      "\n",
      "No.2:\n",
      " bettorcenter is live right now click the link to tune in for our latest sports picks news and so much more  \n",
      "\n"
     ]
    }
   ],
   "source": [
    "print(\"NBA: \")\n",
    "for i in range(3):\n",
    "    print(\"No.{}:\\n\".format(i), nba_tweets[i], \"\\n\")"
   ]
  },
  {
   "cell_type": "code",
   "execution_count": 52,
   "metadata": {},
   "outputs": [
    {
     "name": "stdout",
     "output_type": "stream",
     "text": [
      "Number of removed python tweets containing only whitespace: 10\n",
      "Number of removed nba tweets containing only whitespace: 4\n"
     ]
    }
   ],
   "source": [
    "# Remove tweets that are empty or only contain whitespace after filtering\n",
    "py_empty_idx, nba_empty_idx = [], []\n",
    "for i in range(len(py_tweets)):\n",
    "    if py_tweets[i].isspace():\n",
    "        py_empty_idx.append(i)\n",
    "for i in range(len(nba_tweets)):\n",
    "    if nba_tweets[i].isspace():\n",
    "        nba_empty_idx.append(i)\n",
    "py_tweets = [v for i,v in enumerate(py_tweets) if i not in py_empty_idx and len(py_tweets[i]) != 0] \n",
    "nba_tweets = [v for i,v in enumerate(nba_tweets) if i not in nba_empty_idx and len(nba_tweets[i]) != 0] \n",
    "print(\"Number of removed python tweets containing only whitespace:\", len(py_empty_idx))\n",
    "print(\"Number of removed nba tweets containing only whitespace:\", len(nba_empty_idx))"
   ]
  },
  {
   "cell_type": "code",
   "execution_count": 53,
   "metadata": {},
   "outputs": [
    {
     "name": "stdout",
     "output_type": "stream",
     "text": [
      "Number of tweets with two hashtags: 0\n"
     ]
    }
   ],
   "source": [
    "# Check if there is any tweet with two hashtags\n",
    "py_idx = []\n",
    "for i in range(len(py_tweets)):\n",
    "    if '#NBA' in py_tweets[i] or '#nba' in py_tweets[i]:\n",
    "        py_idx.append(i)\n",
    "nba_idx = []\n",
    "for i in range(len(nba_tweets)):\n",
    "    if '#Python' in nba_tweets[i] or '#python' in nba_tweets[i]:\n",
    "        nba_idx.append(i)\n",
    "print(\"Number of tweets with two hashtags:\", len(py_idx)+len(nba_idx))"
   ]
  },
  {
   "cell_type": "code",
   "execution_count": 54,
   "metadata": {},
   "outputs": [],
   "source": [
    "# Since the F1 scores are too high (>97%), we also remove Python and NBA from tweets' contexts\n",
    "py_tweets = [re.sub(r'\\s+python\\s+|\\s+python|python\\s+', ' ', line) for line in py_tweets]\n",
    "nba_tweets = [re.sub(r'\\s+nba\\s+|\\s+nba|nba\\s+', ' ', line) for line in nba_tweets]\n",
    "# Besides, we remove tweets that contain only stop words\n",
    "stopset = stopwords.words('english') + list(string.punctuation)\n",
    "pn = r'[A-Za-z]+'\n",
    "remove_idx = []\n",
    "for i in range(len(py_tweets)):\n",
    "    line = py_tweets[i]\n",
    "    words = regexp_tokenize(line, pattern=pn)\n",
    "    count = 0\n",
    "    for w in words:\n",
    "        if w in stopset:\n",
    "            count += 1\n",
    "    if count == len(words):\n",
    "        remove_idx.append(i)\n",
    "py_tweets = [v for i,v in enumerate(py_tweets) if i not in remove_idx] \n",
    "remove_idx = []\n",
    "for i in range(len(nba_tweets)):\n",
    "    line = nba_tweets[i]\n",
    "    words = regexp_tokenize(line, pattern=pn)\n",
    "    count = 0\n",
    "    for w in words:\n",
    "        if w in stopset:\n",
    "            count += 1\n",
    "    if count == len(words):\n",
    "        remove_idx.append(i)\n",
    "nba_tweets = [v for i,v in enumerate(nba_tweets) if i not in remove_idx] "
   ]
  },
  {
   "cell_type": "code",
   "execution_count": 55,
   "metadata": {},
   "outputs": [
    {
     "name": "stdout",
     "output_type": "stream",
     "text": [
      "Number of tweets: 25362\n",
      "Number of labels: 25362\n"
     ]
    }
   ],
   "source": [
    "all_tweets = py_tweets + nba_tweets\n",
    "all_labels = ['python']*len(py_tweets) + ['nba']*len(nba_tweets)\n",
    "print(\"Number of tweets:\", len(all_tweets))\n",
    "print(\"Number of labels:\", len(all_labels))"
   ]
  },
  {
   "cell_type": "markdown",
   "metadata": {},
   "source": [
    "# 3. Split tweets into training (90%) and testing (10%) sets"
   ]
  },
  {
   "cell_type": "code",
   "execution_count": 56,
   "metadata": {},
   "outputs": [
    {
     "name": "stdout",
     "output_type": "stream",
     "text": [
      "Number of training tweets: 22825\n",
      "Number of testing tweets: 2537\n",
      "Number of trainging labels: 22825\n",
      "Number of testing labels: 2537\n"
     ]
    }
   ],
   "source": [
    "x_train, x_test, y_train, y_test = train_test_split(all_tweets, all_labels, test_size=0.1, random_state=123)\n",
    "print('Number of training tweets:', len(x_train))\n",
    "print('Number of testing tweets:', len(x_test))\n",
    "print('Number of trainging labels:', len(y_train))\n",
    "print('Number of testing labels:', len(y_test))"
   ]
  },
  {
   "cell_type": "markdown",
   "metadata": {},
   "source": [
    "# 4. Construct word embeddings input"
   ]
  },
  {
   "cell_type": "code",
   "execution_count": 57,
   "metadata": {},
   "outputs": [
    {
     "name": "stderr",
     "output_type": "stream",
     "text": [
      "/Users/seanhong/opt/anaconda3/lib/python3.7/site-packages/ipykernel_launcher.py:27: DeprecationWarning: Call to deprecated `wv` (Attribute will be removed in 4.0.0, use self instead).\n"
     ]
    }
   ],
   "source": [
    "def calc_doc_embedding(doc, embeddings, embed_size, OOV_embed):\n",
    "    # Cronstruct stopwords set\n",
    "    stopset = stopwords.words('english') + list(string.punctuation)\n",
    "    # Split the document\n",
    "    words = doc.lower().split()\n",
    "    # Get the vocabularies from the embedding matrix\n",
    "    vocab_set = embeddings.vocab\n",
    "    doc_embed = []\n",
    "    for w in words:\n",
    "        if w in stopset:\n",
    "            continue\n",
    "        if w in vocab_set:\n",
    "            doc_embed.append(embeddings[w][:embed_size])\n",
    "        else:\n",
    "            if w not in OOV_embed:\n",
    "                # Assign a random vector range from -1 to 1 as an embedding for w\n",
    "                OOV_embed[w] = np.random.uniform(-1, 1, embed_size)            \n",
    "            doc_embed.append(OOV_embed[w])\n",
    "    # Convert list into numpy array and compute the centroid of words vectors\n",
    "    doc_embed = np.mean(np.array(doc_embed), axis=0)\n",
    "    return doc_embed\n",
    "# Import word vectors\n",
    "glove_file = datapath('/Users/seanhong/Desktop/Rutgers/Third Semester/Statistical Software/Project/glove.twitter.27B.100d.txt')\n",
    "word2vec_text_file = get_tmpfile(\"glove.twitter.27B.100d.txt\")\n",
    "glove2word2vec(glove_file, word2vec_text_file)\n",
    "model = KeyedVectors.load_word2vec_format(word2vec_text_file)\n",
    "wv = model.wv\n",
    "# Transform tweets input to word embedding input\n",
    "OOV_embed = {} # Initialize OOV_embed to an empty dictionary\n",
    "x_train_embed = np.vstack([calc_doc_embedding(doc, wv, 100, OOV_embed) for doc in x_train])\n",
    "x_test_embed = np.vstack([calc_doc_embedding(doc, wv, 100, OOV_embed) for doc in x_test])\n",
    "all_tweets_embed = np.vstack([calc_doc_embedding(doc, wv, 100, OOV_embed) for doc in all_tweets])"
   ]
  },
  {
   "cell_type": "markdown",
   "metadata": {},
   "source": [
    "# 5. Naive Bayes"
   ]
  },
  {
   "cell_type": "code",
   "execution_count": 64,
   "metadata": {},
   "outputs": [
    {
     "name": "stdout",
     "output_type": "stream",
     "text": [
      "Naive Bayes: (Input: TF-IDF) \n",
      "\n",
      "Predicted labels for test_data: ['nba' 'nba' 'python' ... 'nba' 'nba' 'nba']\n",
      "\n",
      "Microaveraged F1 scores: 0.9728025226645645\n",
      "Macroaveraged F1 scores 0.9711683320560653 \n",
      "\n",
      "Cross Validation: (5-fold)\n",
      "Mean/SD of micro F1 scores: 0.9726756080468068 / 0.0021910883706842852\n",
      "Mean/SD of macro F1 scores: 0.9712268607881638 / 0.0023192257305519296\n"
     ]
    },
    {
     "data": {
      "image/png": "[encoded data removed]",
      "text/plain": [
       "<Figure size 360x360 with 1 Axes>"
      ]
     },
     "metadata": {},
     "output_type": "display_data"
    }
   ],
   "source": [
    "print(\"Naive Bayes: (Input: TF-IDF) \\n\")\n",
    "nb_mod = make_pipeline(TfidfVectorizer(), MultinomialNB())\n",
    "nb_mod.fit(x_train, y_train)\n",
    "pred_labels = nb_mod.predict(x_test)\n",
    "print(\"Predicted labels for test_data:\", pred_labels)\n",
    "# Confusion matrix\n",
    "mat = confusion_matrix(y_test, pred_labels)\n",
    "plt.figure(figsize=(5,5))\n",
    "sns.heatmap(mat.T, square=True, annot=True, fmt='d', cbar=False, \n",
    "            xticklabels=sorted(set(y_test)), yticklabels=sorted(set(y_test)))\n",
    "plt.xlabel('true label')\n",
    "plt.ylabel('predicted label')\n",
    "print('')\n",
    "# F1 scores\n",
    "print(\"Microaveraged F1 scores:\", f1_score(y_test, pred_labels, average='micro'))\n",
    "print(\"Macroaveraged F1 scores\", f1_score(y_test, pred_labels, average=\"macro\"), '\\n')\n",
    "# Cross validation\n",
    "print('Cross Validation: (5-fold)')\n",
    "nb_tf_scores = cross_val_score(nb_mod, all_tweets, all_labels, cv=5, scoring='f1_micro')\n",
    "print('Mean/SD of micro F1 scores:', nb_tf_scores.mean(), '/', nb_tf_scores.std())\n",
    "scores = cross_val_score(nb_mod, all_tweets, all_labels, cv=5, scoring='f1_macro')\n",
    "print('Mean/SD of macro F1 scores:', scores.mean(), '/', scores.std())"
   ]
  },
  {
   "cell_type": "markdown",
   "metadata": {},
   "source": [
    "# 6. Logistic Regression"
   ]
  },
  {
   "cell_type": "code",
   "execution_count": 65,
   "metadata": {},
   "outputs": [
    {
     "name": "stdout",
     "output_type": "stream",
     "text": [
      "Logistic Regression: (Input: TF-IDF)\n",
      "\n",
      "Predicted labels for test_data: ['nba' 'nba' 'python' ... 'nba' 'nba' 'nba']\n",
      "\n",
      "Microaveraged F1 scores: 0.974773354355538\n",
      "Macroaveraged F1 scores 0.973397297261872 \n",
      "\n",
      "Cross Validation: (5-fold)\n",
      "Mean/SD of micro F1 scores: 0.97693394111586 / 0.0031276819531179407\n",
      "Mean/SD of macro F1 scores: 0.9758575826552148 / 0.0032958076339115175\n"
     ]
    },
    {
     "data": {
      "image/png": "[encoded data removed]",
      "text/plain": [
       "<Figure size 360x360 with 1 Axes>"
      ]
     },
     "metadata": {},
     "output_type": "display_data"
    }
   ],
   "source": [
    "print(\"Logistic Regression: (Input: TF-IDF)\\n\")\n",
    "lr_mod = make_pipeline(TfidfVectorizer(), LogisticRegression())\n",
    "lr_mod.fit(x_train, y_train)\n",
    "pred_labels = lr_mod.predict(x_test)\n",
    "print(\"Predicted labels for test_data:\", pred_labels)\n",
    "# Confusion matrix\n",
    "mat = confusion_matrix(y_test, pred_labels)\n",
    "plt.figure(figsize=(5,5))\n",
    "sns.heatmap(mat.T, square=True, annot=True, fmt='d', cbar=False, \n",
    "            xticklabels=sorted(set(y_test)), yticklabels=sorted(set(y_test)))\n",
    "plt.xlabel('true label')\n",
    "plt.ylabel('predicted label')\n",
    "print('')\n",
    "# F1 scores\n",
    "print(\"Microaveraged F1 scores:\", f1_score(y_test, pred_labels, average='micro'))\n",
    "print(\"Macroaveraged F1 scores\", f1_score(y_test, pred_labels, average=\"macro\"), '\\n')\n",
    "# Cross validation\n",
    "print('Cross Validation: (5-fold)')\n",
    "lr_tf_scores = cross_val_score(lr_mod, all_tweets, all_labels, cv=5, scoring='f1_micro')\n",
    "print('Mean/SD of micro F1 scores:', lr_tf_scores.mean(), '/', lr_tf_scores.std())\n",
    "scores = cross_val_score(lr_mod, all_tweets, all_labels, cv=5, scoring='f1_macro')\n",
    "print('Mean/SD of macro F1 scores:', scores.mean(), '/', scores.std())"
   ]
  },
  {
   "cell_type": "code",
   "execution_count": 66,
   "metadata": {},
   "outputs": [
    {
     "name": "stdout",
     "output_type": "stream",
     "text": [
      "Logistic Regression: (Input: Word Embeddings)\n",
      "\n",
      "Predicted labels for test_data: ['nba' 'nba' 'python' ... 'nba' 'nba' 'nba']\n",
      "\n",
      "Microaveraged F1 scores: 0.9668900275916438\n",
      "Macroaveraged F1 scores 0.9653126916601233\n",
      "\n",
      "Cross Validation: (5-fold)\n",
      "Mean/SD of micro F1 scores: 0.9658543545000097 / 0.0031583849684525644\n",
      "Mean/SD of macro F1 scores: 0.9644111319723491 / 0.0033106951655672875\n"
     ]
    },
    {
     "data": {
      "image/png": "[encoded data removed]",
      "text/plain": [
       "<Figure size 360x360 with 1 Axes>"
      ]
     },
     "metadata": {},
     "output_type": "display_data"
    }
   ],
   "source": [
    "print(\"Logistic Regression: (Input: Word Embeddings)\\n\")\n",
    "lr_mod_embed = LogisticRegression()\n",
    "lr_mod_embed.fit(x_train_embed, y_train)\n",
    "pred_labels = lr_mod_embed.predict(x_test_embed)\n",
    "print(\"Predicted labels for test_data:\", pred_labels)\n",
    "# Confusion matrix\n",
    "mat = confusion_matrix(y_test, pred_labels)\n",
    "plt.figure(figsize=(5,5))\n",
    "sns.heatmap(mat.T, square=True, annot=True, fmt='d', cbar=False, \n",
    "            xticklabels=sorted(set(y_test)), yticklabels=sorted(set(y_test)))\n",
    "plt.xlabel('true label')\n",
    "plt.ylabel('predicted label')\n",
    "print('')\n",
    "# F1 scores\n",
    "print(\"Microaveraged F1 scores:\", f1_score(y_test, pred_labels, average='micro'))\n",
    "print(\"Macroaveraged F1 scores\", f1_score(y_test, pred_labels, average=\"macro\"))\n",
    "print('')\n",
    "# Cross validation\n",
    "print('Cross Validation: (5-fold)')\n",
    "lr_we_scores = cross_val_score(lr_mod_embed, all_tweets_embed, all_labels, cv=5, scoring='f1_micro')\n",
    "print('Mean/SD of micro F1 scores:', lr_we_scores.mean(), '/', lr_we_scores.std())\n",
    "scores = cross_val_score(lr_mod_embed, all_tweets_embed, all_labels, cv=5, scoring='f1_macro')\n",
    "print('Mean/SD of macro F1 scores:', scores.mean(), '/', scores.std())"
   ]
  },
  {
   "cell_type": "markdown",
   "metadata": {},
   "source": [
    "# 7.  Neural Network model  from sklearn"
   ]
  },
  {
   "cell_type": "code",
   "execution_count": 89,
   "metadata": {},
   "outputs": [
    {
     "name": "stdout",
     "output_type": "stream",
     "text": [
      "Neural Network: (Input: TF-IDF) \n",
      "\n",
      "Predicted labels of x_test: ['nba' 'nba' 'python' ... 'nba' 'nba' 'nba']\n",
      "\n",
      "Microaveraged F1 scores: 0.9862041781631848\n",
      "Macroaveraged F1 scores 0.985486917631822\n",
      "\n",
      "Cross Validation: (5-fold)\n",
      "Mean/SD of micro F1 scores: 0.9869488978267453 / 0.0020698127446212955\n",
      "Mean/SD of macro F1 scores: 0.9861763988424522 / 0.0022538720718211455\n"
     ]
    },
    {
     "data": {
      "image/png": "[encoded data removed]",
      "text/plain": [
       "<Figure size 360x360 with 1 Axes>"
      ]
     },
     "metadata": {},
     "output_type": "display_data"
    }
   ],
   "source": [
    "# One hidden layer with 50 units\n",
    "print(\"Neural Network: (Input: TF-IDF) \\n\")\n",
    "mlp_mod = make_pipeline(TfidfVectorizer(), MLPClassifier(hidden_layer_sizes=(50,)))\n",
    "mlp_mod.fit(x_train, y_train)\n",
    "pred_labels = mlp_mod.predict(x_test)\n",
    "print(\"Predicted labels of x_test:\", pred_labels)\n",
    "# Confusion matrix\n",
    "mat = confusion_matrix(y_test, pred_labels)\n",
    "plt.figure(figsize=(5,5))\n",
    "sns.heatmap(mat.T, square=True, annot=True, fmt='d', cbar=False, \n",
    "            xticklabels=sorted(set(y_test)), yticklabels=sorted(set(y_test)))\n",
    "plt.xlabel('true label')\n",
    "plt.ylabel('predicted label')\n",
    "print('')\n",
    "# F1 scores\n",
    "print(\"Microaveraged F1 scores:\", f1_score(y_test, pred_labels, average='micro'))\n",
    "print(\"Macroaveraged F1 scores\", f1_score(y_test, pred_labels, average=\"macro\"))\n",
    "print('')\n",
    "# Cross validation\n",
    "print('Cross Validation: (5-fold)')\n",
    "nn_tf_scores = cross_val_score(mlp_mod, all_tweets, all_labels, cv=5, scoring='f1_micro', n_jobs=-1)\n",
    "print('Mean/SD of micro F1 scores:', nn_tf_scores.mean(), '/', nn_tf_scores.std())\n",
    "scores = cross_val_score(mlp_mod, all_tweets, all_labels, cv=5, scoring='f1_macro', n_jobs=-1)\n",
    "print('Mean/SD of macro F1 scores:', scores.mean(), '/', scores.std())"
   ]
  },
  {
   "cell_type": "code",
   "execution_count": 90,
   "metadata": {},
   "outputs": [
    {
     "name": "stdout",
     "output_type": "stream",
     "text": [
      "Neural Network: (Input: Word Embeddings)\n",
      "\n",
      "Predicted labels of x_test: ['nba' 'nba' 'python' ... 'nba' 'nba' 'nba']\n",
      "\n",
      "Microaveraged F1 scores: 0.9795033504138747\n",
      "Macroaveraged F1 scores 0.9784731405417189\n",
      "\n",
      "Cross Validation: (5-fold)\n"
     ]
    },
    {
     "name": "stderr",
     "output_type": "stream",
     "text": [
      "/Users/seanhong/opt/anaconda3/lib/python3.7/site-packages/sklearn/neural_network/_multilayer_perceptron.py:585: ConvergenceWarning: Stochastic Optimizer: Maximum iterations (200) reached and the optimization hasn't converged yet.\n",
      "  % self.max_iter, ConvergenceWarning)\n",
      "/Users/seanhong/opt/anaconda3/lib/python3.7/site-packages/sklearn/neural_network/_multilayer_perceptron.py:585: ConvergenceWarning: Stochastic Optimizer: Maximum iterations (200) reached and the optimization hasn't converged yet.\n",
      "  % self.max_iter, ConvergenceWarning)\n"
     ]
    },
    {
     "name": "stdout",
     "output_type": "stream",
     "text": [
      "Mean/SD of micro F1 scores: 0.9783532973787746 / 0.0031858178576970784\n"
     ]
    },
    {
     "name": "stderr",
     "output_type": "stream",
     "text": [
      "/Users/seanhong/opt/anaconda3/lib/python3.7/site-packages/sklearn/neural_network/_multilayer_perceptron.py:585: ConvergenceWarning: Stochastic Optimizer: Maximum iterations (200) reached and the optimization hasn't converged yet.\n",
      "  % self.max_iter, ConvergenceWarning)\n",
      "/Users/seanhong/opt/anaconda3/lib/python3.7/site-packages/sklearn/neural_network/_multilayer_perceptron.py:585: ConvergenceWarning: Stochastic Optimizer: Maximum iterations (200) reached and the optimization hasn't converged yet.\n",
      "  % self.max_iter, ConvergenceWarning)\n"
     ]
    },
    {
     "name": "stdout",
     "output_type": "stream",
     "text": [
      "Mean/SD of macro F1 scores: 0.9764035643967057 / 0.0035055118867826436\n"
     ]
    },
    {
     "data": {
      "image/png": "[encoded data removed]",
      "text/plain": [
       "<Figure size 360x360 with 1 Axes>"
      ]
     },
     "metadata": {},
     "output_type": "display_data"
    }
   ],
   "source": [
    "# One hidden layer with 50 units\n",
    "print(\"Neural Network: (Input: Word Embeddings)\\n\")\n",
    "mlp_mod_embed = MLPClassifier(hidden_layer_sizes=(50,))\n",
    "mlp_mod_embed.fit(x_train_embed, y_train)\n",
    "pred_labels = mlp_mod_embed.predict(x_test_embed)\n",
    "print(\"Predicted labels of x_test:\", pred_labels)\n",
    "# Confusion matrix\n",
    "mat = confusion_matrix(y_test, pred_labels)\n",
    "plt.figure(figsize=(5,5))\n",
    "sns.heatmap(mat.T, square=True, annot=True, fmt='d', cbar=False, \n",
    "            xticklabels=sorted(set(y_test)), yticklabels=sorted(set(y_test)))\n",
    "plt.xlabel('true label')\n",
    "plt.ylabel('predicted label')\n",
    "print('')\n",
    "# F1 scores\n",
    "print(\"Microaveraged F1 scores:\", f1_score(y_test, pred_labels, average='micro'))\n",
    "print(\"Macroaveraged F1 scores\", f1_score(y_test, pred_labels, average=\"macro\"))\n",
    "print('')\n",
    "# Cross validation\n",
    "print('Cross Validation: (5-fold)')\n",
    "nn_we_scores = cross_val_score(mlp_mod_embed, all_tweets_embed, all_labels, cv=5, scoring='f1_micro')\n",
    "print('Mean/SD of micro F1 scores:', nn_we_scores.mean(), '/', nn_we_scores.std())\n",
    "scores = cross_val_score(mlp_mod_embed, all_tweets_embed, all_labels, cv=5, scoring='f1_macro')\n",
    "print('Mean/SD of macro F1 scores:', scores.mean(), '/', scores.std())"
   ]
  },
  {
   "cell_type": "code",
   "execution_count": 95,
   "metadata": {},
   "outputs": [
    {
     "name": "stderr",
     "output_type": "stream",
     "text": [
      "/Users/seanhong/opt/anaconda3/lib/python3.7/site-packages/ipykernel_launcher.py:8: UserWarning: FixedFormatter should only be used together with FixedLocator\n",
      "  \n"
     ]
    },
    {
     "data": {
      "image/png": "[encoded data removed]",
      "text/plain": [
       "<Figure size 1440x720 with 1 Axes>"
      ]
     },
     "metadata": {},
     "output_type": "display_data"
    }
   ],
   "source": [
    "#Create a figure instance\n",
    "fig = plt.figure(1, figsize=(20, 10))\n",
    "# Create an axes instance\n",
    "axes = fig.add_subplot(111)\n",
    "# Create the titile and labels\n",
    "labels = ['Naive Bayes(TF-IDF)', 'Logistic Regression(TF-IDF)', 'Logistic Regression(Word Embeddings)', \n",
    "          'Simple Neural Network(TF-IDF)', 'Simple Neural Network(Word Embeddings)']\n",
    "axes.set_xticklabels(labels)\n",
    "axes.set_title(\"Distributions of Micro F1 Scores\")\n",
    "# Create the boxplot\n",
    "bp = axes.boxplot([nb_tf_scores, lr_tf_scores, lr_we_scores, nn_tf_scores, nn_we_scores], showmeans=True)"
   ]
  },
  {
   "cell_type": "code",
   "execution_count": null,
   "metadata": {},
   "outputs": [],
   "source": []
  }
 ],
 "metadata": {
  "kernelspec": {
   "display_name": "Python 3",
   "language": "python",
   "name": "python3"
  },
  "language_info": {
   "codemirror_mode": {
    "name": "ipython",
    "version": 3
   },
   "file_extension": ".py",
   "mimetype": "text/x-python",
   "name": "python",
   "nbconvert_exporter": "python",
   "pygments_lexer": "ipython3",
   "version": "3.7.9"
  }
 },
 "nbformat": 4,
 "nbformat_minor": 4
}
